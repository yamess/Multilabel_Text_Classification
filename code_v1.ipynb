{
 "cells": [
  {
   "cell_type": "code",
   "execution_count": 1,
   "metadata": {
    "collapsed": true,
    "pycharm": {
     "name": "#%%\n",
     "is_executing": false
    }
   },
   "outputs": [],
   "source": [
    "import pandas as pd\n",
    "import numpy as np\n",
    "import time\n",
    "from sklearn.metrics import accuracy_score\n",
    "from sklearn.preprocessing import StandardScaler"
   ]
  },
  {
   "cell_type": "code",
   "execution_count": 2,
   "outputs": [],
   "source": [
    "# Timing decorator to find exécution time of function\n",
    "def timing(func):\n",
    "    def wrapper(*args, **kwargs):\n",
    "        print(\"Calculation start\")\n",
    "        start = time.perf_counter()\n",
    "        data = func(*args, **kwargs)\n",
    "        print(\"Finished!\")\n",
    "        end = time.perf_counter()\n",
    "        print(f\"Execution time: {round(end-start,2)} second(s)\")\n",
    "        return data\n",
    "    return wrapper"
   ],
   "metadata": {
    "collapsed": false,
    "pycharm": {
     "name": "#%%\n",
     "is_executing": false
    }
   }
  },
  {
   "cell_type": "code",
   "execution_count": 3,
   "outputs": [],
   "source": [
    "@timing\n",
    "def read_data(path):\n",
    "    d = pd.read_csv(path)\n",
    "    return d"
   ],
   "metadata": {
    "collapsed": false,
    "pycharm": {
     "name": "#%%\n",
     "is_executing": false
    }
   }
  },
  {
   "cell_type": "code",
   "execution_count": 4,
   "outputs": [
    {
     "name": "stdout",
     "text": [
      "Calculation start\n",
      "Finished!\nExecution time: 19.72 second(s)\n"
     ],
     "output_type": "stream"
    }
   ],
   "source": [
    "X = read_data(\"X.csv\")"
   ],
   "metadata": {
    "collapsed": false,
    "pycharm": {
     "name": "#%%\n",
     "is_executing": false
    }
   }
  },
  {
   "cell_type": "code",
   "execution_count": 5,
   "outputs": [
    {
     "name": "stdout",
     "text": [
      "Calculation start\n",
      "Finished!\nExecution time: 1.1 second(s)\n"
     ],
     "output_type": "stream"
    }
   ],
   "source": [
    "y = read_data(\"y_1.csv\")"
   ],
   "metadata": {
    "collapsed": false,
    "pycharm": {
     "name": "#%%\n",
     "is_executing": false
    }
   }
  },
  {
   "cell_type": "code",
   "execution_count": 6,
   "outputs": [
    {
     "data": {
      "text/plain": "    x1   x2                                            x3  \\\n0   NO   NO  rpoSk1aXo+6hZQxVMp/PAw8+w67/vzWkyQs/xGqFCnw=   \n1   NO   NO  /VV6+dCb+in5lV7V/e9b5HoZ/BN34M+dPmKWY8BeHh4=   \n2  YES  YES  MZZbXga8gvaCBqWpzrh2iKdOkcsz/bG/z4BVjUnqWT0=   \n3  YES   NO  X/hdUOVR5KuExVGLzjhLcM2CyIqym9t0Nh+ZX05M+1w=   \n4   NO   NO  4FIxS25OrBv/DHbmmVLtScptssXXAhNxD087PPzA9BU=   \n\n                                             x4        x5        x6        x7  \\\n0  hCXwO/JldK5zcd9ejOD1FwmEgCf96eTdEVy7OtY2Y2g=  0.837674  0.072627  0.869502   \n1  hCXwO/JldK5zcd9ejOD1FwmEgCf96eTdEVy7OtY2Y2g=  1.289474  0.082577  0.948578   \n2  YvZUuCDjLu9VvkCdBWgARWQrvm+FSXgxp0zIrMjcLBc=  0.653912  0.041257  0.941000   \n3  +yhSY//Hpg7u0bSA7NYmcmRFgv3bF4Tw3BMHrBqaTtA=  1.179921  0.051104  0.949501   \n4  B+EJpnEbkYtLnwDQYN1dP1rcfnoCnxAjKLYwQZE07Ew=  0.706815  0.000000  1.000000   \n\n         x8        x9  x10  ... x136      x137  x138  x139  x140  x141  x142  \\\n0  0.279803  0.297919   NO  ...  7.0  0.885000  4565  3456   YES    NO   YES   \n1  0.069268  0.527802   NO  ...  0.0  0.670000  4676  3306   YES    NO   YES   \n2  0.090423  0.422868  YES  ...  1.5  0.963333  3306  4678   YES    NO   YES   \n3  0.270638  0.411161  YES  ...  0.0  0.950000  4677  3307   YES    NO   YES   \n4  0.000000  0.503363  YES  ...  3.0  1.000000   892  1262    NO    NO   YES   \n\n   x143      x144      x145  \n0     4  0.623843  0.285871  \n1     0  0.932244  0.526946  \n2    11  0.668876  0.412886  \n3     4  0.738434  0.404105  \n4     7  0.595880  0.489910  \n\n[5 rows x 145 columns]",
      "text/html": "<div>\n<style scoped>\n    .dataframe tbody tr th:only-of-type {\n        vertical-align: middle;\n    }\n\n    .dataframe tbody tr th {\n        vertical-align: top;\n    }\n\n    .dataframe thead th {\n        text-align: right;\n    }\n</style>\n<table border=\"1\" class=\"dataframe\">\n  <thead>\n    <tr style=\"text-align: right;\">\n      <th></th>\n      <th>x1</th>\n      <th>x2</th>\n      <th>x3</th>\n      <th>x4</th>\n      <th>x5</th>\n      <th>x6</th>\n      <th>x7</th>\n      <th>x8</th>\n      <th>x9</th>\n      <th>x10</th>\n      <th>...</th>\n      <th>x136</th>\n      <th>x137</th>\n      <th>x138</th>\n      <th>x139</th>\n      <th>x140</th>\n      <th>x141</th>\n      <th>x142</th>\n      <th>x143</th>\n      <th>x144</th>\n      <th>x145</th>\n    </tr>\n  </thead>\n  <tbody>\n    <tr>\n      <td>0</td>\n      <td>NO</td>\n      <td>NO</td>\n      <td>rpoSk1aXo+6hZQxVMp/PAw8+w67/vzWkyQs/xGqFCnw=</td>\n      <td>hCXwO/JldK5zcd9ejOD1FwmEgCf96eTdEVy7OtY2Y2g=</td>\n      <td>0.837674</td>\n      <td>0.072627</td>\n      <td>0.869502</td>\n      <td>0.279803</td>\n      <td>0.297919</td>\n      <td>NO</td>\n      <td>...</td>\n      <td>7.0</td>\n      <td>0.885000</td>\n      <td>4565</td>\n      <td>3456</td>\n      <td>YES</td>\n      <td>NO</td>\n      <td>YES</td>\n      <td>4</td>\n      <td>0.623843</td>\n      <td>0.285871</td>\n    </tr>\n    <tr>\n      <td>1</td>\n      <td>NO</td>\n      <td>NO</td>\n      <td>/VV6+dCb+in5lV7V/e9b5HoZ/BN34M+dPmKWY8BeHh4=</td>\n      <td>hCXwO/JldK5zcd9ejOD1FwmEgCf96eTdEVy7OtY2Y2g=</td>\n      <td>1.289474</td>\n      <td>0.082577</td>\n      <td>0.948578</td>\n      <td>0.069268</td>\n      <td>0.527802</td>\n      <td>NO</td>\n      <td>...</td>\n      <td>0.0</td>\n      <td>0.670000</td>\n      <td>4676</td>\n      <td>3306</td>\n      <td>YES</td>\n      <td>NO</td>\n      <td>YES</td>\n      <td>0</td>\n      <td>0.932244</td>\n      <td>0.526946</td>\n    </tr>\n    <tr>\n      <td>2</td>\n      <td>YES</td>\n      <td>YES</td>\n      <td>MZZbXga8gvaCBqWpzrh2iKdOkcsz/bG/z4BVjUnqWT0=</td>\n      <td>YvZUuCDjLu9VvkCdBWgARWQrvm+FSXgxp0zIrMjcLBc=</td>\n      <td>0.653912</td>\n      <td>0.041257</td>\n      <td>0.941000</td>\n      <td>0.090423</td>\n      <td>0.422868</td>\n      <td>YES</td>\n      <td>...</td>\n      <td>1.5</td>\n      <td>0.963333</td>\n      <td>3306</td>\n      <td>4678</td>\n      <td>YES</td>\n      <td>NO</td>\n      <td>YES</td>\n      <td>11</td>\n      <td>0.668876</td>\n      <td>0.412886</td>\n    </tr>\n    <tr>\n      <td>3</td>\n      <td>YES</td>\n      <td>NO</td>\n      <td>X/hdUOVR5KuExVGLzjhLcM2CyIqym9t0Nh+ZX05M+1w=</td>\n      <td>+yhSY//Hpg7u0bSA7NYmcmRFgv3bF4Tw3BMHrBqaTtA=</td>\n      <td>1.179921</td>\n      <td>0.051104</td>\n      <td>0.949501</td>\n      <td>0.270638</td>\n      <td>0.411161</td>\n      <td>YES</td>\n      <td>...</td>\n      <td>0.0</td>\n      <td>0.950000</td>\n      <td>4677</td>\n      <td>3307</td>\n      <td>YES</td>\n      <td>NO</td>\n      <td>YES</td>\n      <td>4</td>\n      <td>0.738434</td>\n      <td>0.404105</td>\n    </tr>\n    <tr>\n      <td>4</td>\n      <td>NO</td>\n      <td>NO</td>\n      <td>4FIxS25OrBv/DHbmmVLtScptssXXAhNxD087PPzA9BU=</td>\n      <td>B+EJpnEbkYtLnwDQYN1dP1rcfnoCnxAjKLYwQZE07Ew=</td>\n      <td>0.706815</td>\n      <td>0.000000</td>\n      <td>1.000000</td>\n      <td>0.000000</td>\n      <td>0.503363</td>\n      <td>YES</td>\n      <td>...</td>\n      <td>3.0</td>\n      <td>1.000000</td>\n      <td>892</td>\n      <td>1262</td>\n      <td>NO</td>\n      <td>NO</td>\n      <td>YES</td>\n      <td>7</td>\n      <td>0.595880</td>\n      <td>0.489910</td>\n    </tr>\n  </tbody>\n</table>\n<p>5 rows × 145 columns</p>\n</div>"
     },
     "metadata": {},
     "output_type": "execute_result",
     "execution_count": 6
    }
   ],
   "source": [
    "X.head()"
   ],
   "metadata": {
    "collapsed": false,
    "pycharm": {
     "name": "#%%\n",
     "is_executing": false
    }
   }
  },
  {
   "cell_type": "code",
   "execution_count": 7,
   "outputs": [
    {
     "data": {
      "text/plain": "   y1  y2  y3  y4  y5  y6  y7  y8  y9  y10  ...  y24  y25  y26  y27  y28  y29  \\\n0   0   0   0   0   0   0   0   0   0    0  ...    0    0    0    0    0    0   \n1   0   0   0   0   0   0   0   0   1    0  ...    0    0    0    0    0    0   \n2   0   0   0   0   0   0   0   0   0    0  ...    0    0    0    0    0    0   \n3   0   0   0   0   0   0   0   1   0    0  ...    0    0    0    0    0    1   \n4   0   0   0   0   0   0   0   0   0    0  ...    0    0    0    0    0    0   \n\n   y30  y31  y32  y33  \n0    0    0    0    1  \n1    0    0    0    0  \n2    0    0    0    1  \n3    0    0    0    0  \n4    0    0    0    1  \n\n[5 rows x 33 columns]",
      "text/html": "<div>\n<style scoped>\n    .dataframe tbody tr th:only-of-type {\n        vertical-align: middle;\n    }\n\n    .dataframe tbody tr th {\n        vertical-align: top;\n    }\n\n    .dataframe thead th {\n        text-align: right;\n    }\n</style>\n<table border=\"1\" class=\"dataframe\">\n  <thead>\n    <tr style=\"text-align: right;\">\n      <th></th>\n      <th>y1</th>\n      <th>y2</th>\n      <th>y3</th>\n      <th>y4</th>\n      <th>y5</th>\n      <th>y6</th>\n      <th>y7</th>\n      <th>y8</th>\n      <th>y9</th>\n      <th>y10</th>\n      <th>...</th>\n      <th>y24</th>\n      <th>y25</th>\n      <th>y26</th>\n      <th>y27</th>\n      <th>y28</th>\n      <th>y29</th>\n      <th>y30</th>\n      <th>y31</th>\n      <th>y32</th>\n      <th>y33</th>\n    </tr>\n  </thead>\n  <tbody>\n    <tr>\n      <td>0</td>\n      <td>0</td>\n      <td>0</td>\n      <td>0</td>\n      <td>0</td>\n      <td>0</td>\n      <td>0</td>\n      <td>0</td>\n      <td>0</td>\n      <td>0</td>\n      <td>0</td>\n      <td>...</td>\n      <td>0</td>\n      <td>0</td>\n      <td>0</td>\n      <td>0</td>\n      <td>0</td>\n      <td>0</td>\n      <td>0</td>\n      <td>0</td>\n      <td>0</td>\n      <td>1</td>\n    </tr>\n    <tr>\n      <td>1</td>\n      <td>0</td>\n      <td>0</td>\n      <td>0</td>\n      <td>0</td>\n      <td>0</td>\n      <td>0</td>\n      <td>0</td>\n      <td>0</td>\n      <td>1</td>\n      <td>0</td>\n      <td>...</td>\n      <td>0</td>\n      <td>0</td>\n      <td>0</td>\n      <td>0</td>\n      <td>0</td>\n      <td>0</td>\n      <td>0</td>\n      <td>0</td>\n      <td>0</td>\n      <td>0</td>\n    </tr>\n    <tr>\n      <td>2</td>\n      <td>0</td>\n      <td>0</td>\n      <td>0</td>\n      <td>0</td>\n      <td>0</td>\n      <td>0</td>\n      <td>0</td>\n      <td>0</td>\n      <td>0</td>\n      <td>0</td>\n      <td>...</td>\n      <td>0</td>\n      <td>0</td>\n      <td>0</td>\n      <td>0</td>\n      <td>0</td>\n      <td>0</td>\n      <td>0</td>\n      <td>0</td>\n      <td>0</td>\n      <td>1</td>\n    </tr>\n    <tr>\n      <td>3</td>\n      <td>0</td>\n      <td>0</td>\n      <td>0</td>\n      <td>0</td>\n      <td>0</td>\n      <td>0</td>\n      <td>0</td>\n      <td>1</td>\n      <td>0</td>\n      <td>0</td>\n      <td>...</td>\n      <td>0</td>\n      <td>0</td>\n      <td>0</td>\n      <td>0</td>\n      <td>0</td>\n      <td>1</td>\n      <td>0</td>\n      <td>0</td>\n      <td>0</td>\n      <td>0</td>\n    </tr>\n    <tr>\n      <td>4</td>\n      <td>0</td>\n      <td>0</td>\n      <td>0</td>\n      <td>0</td>\n      <td>0</td>\n      <td>0</td>\n      <td>0</td>\n      <td>0</td>\n      <td>0</td>\n      <td>0</td>\n      <td>...</td>\n      <td>0</td>\n      <td>0</td>\n      <td>0</td>\n      <td>0</td>\n      <td>0</td>\n      <td>0</td>\n      <td>0</td>\n      <td>0</td>\n      <td>0</td>\n      <td>1</td>\n    </tr>\n  </tbody>\n</table>\n<p>5 rows × 33 columns</p>\n</div>"
     },
     "metadata": {},
     "output_type": "execute_result",
     "execution_count": 7
    }
   ],
   "source": [
    "y.head()"
   ],
   "metadata": {
    "collapsed": false,
    "pycharm": {
     "name": "#%%\n",
     "is_executing": false
    }
   }
  },
  {
   "cell_type": "markdown",
   "source": [
    "## Traitement des données"
   ],
   "metadata": {
    "collapsed": false,
    "pycharm": {
     "name": "#%% md\n"
    }
   }
  },
  {
   "cell_type": "code",
   "execution_count": 10,
   "outputs": [
    {
     "name": "stdout",
     "text": [
      "<class 'pandas.core.frame.DataFrame'>\nRangeIndex: 100000 entries, 0 to 99999\nColumns: 145 entries, x1 to x145\ndtypes: float64(55), int64(30), object(60)\nmemory usage: 110.6+ MB\n"
     ],
     "output_type": "stream"
    }
   ],
   "source": [
    "X.info()"
   ],
   "metadata": {
    "collapsed": false,
    "pycharm": {
     "name": "#%%\n",
     "is_executing": false
    }
   }
  },
  {
   "cell_type": "code",
   "execution_count": 13,
   "outputs": [],
   "source": [
    "X_float_col = X.dtypes[X.dtypes=='float64'].index\n",
    "X_int_col = X.dtypes[X.dtypes=='int64'].index\n",
    "X_obj_col = X.dtypes[X.dtypes=='object'].index"
   ],
   "metadata": {
    "collapsed": false,
    "pycharm": {
     "name": "#%%\n",
     "is_executing": false
    }
   }
  },
  {
   "cell_type": "code",
   "execution_count": 12,
   "outputs": [
    {
     "data": {
      "text/plain": "         x5        x6        x7        x8        x9       x16       x19  x20  \\\n0  0.837674  0.072627  0.869502  0.279803  0.297919  0.619213  0.995370  0.0   \n1  1.289474  0.082577  0.948578  0.069268  0.527802  0.937689  0.998790  0.0   \n2  0.653912  0.041257  0.941000  0.090423  0.422868  0.651347  0.982471  0.0   \n3  1.179921  0.051104  0.949501  0.270638  0.411161  0.753553  0.995162  0.0   \n4  0.706815  0.000000  1.000000  0.000000  0.503363  0.568938  0.973059  0.0   \n\n    x21       x28  ...      x122      x123      x124      x125      x132  \\\n0  0.94  0.623843  ...  0.072627  0.869502  0.279803  0.298795  0.315104   \n1  0.85  0.938899  ...  0.082577  0.948578  0.069268  0.530368  0.924985   \n2  0.97  0.668876  ...  0.041257  0.941000  0.090423  0.424077  0.433091   \n3  0.95  0.758391  ...  0.051104  0.949501  0.270638  0.411375  0.732083   \n4  1.00  0.595880  ...  0.000000  1.000000  0.000000  0.503363  0.224247   \n\n       x135  x136      x137      x144      x145  \n0  0.990917   7.0  0.885000  0.623843  0.285871  \n1  0.992740   0.0  0.670000  0.932244  0.526946  \n2  0.947951   1.5  0.963333  0.668876  0.412886  \n3  0.993650   0.0  0.950000  0.738434  0.404105  \n4  0.898574   3.0  1.000000  0.595880  0.489910  \n\n[5 rows x 55 columns]",
      "text/html": "<div>\n<style scoped>\n    .dataframe tbody tr th:only-of-type {\n        vertical-align: middle;\n    }\n\n    .dataframe tbody tr th {\n        vertical-align: top;\n    }\n\n    .dataframe thead th {\n        text-align: right;\n    }\n</style>\n<table border=\"1\" class=\"dataframe\">\n  <thead>\n    <tr style=\"text-align: right;\">\n      <th></th>\n      <th>x5</th>\n      <th>x6</th>\n      <th>x7</th>\n      <th>x8</th>\n      <th>x9</th>\n      <th>x16</th>\n      <th>x19</th>\n      <th>x20</th>\n      <th>x21</th>\n      <th>x28</th>\n      <th>...</th>\n      <th>x122</th>\n      <th>x123</th>\n      <th>x124</th>\n      <th>x125</th>\n      <th>x132</th>\n      <th>x135</th>\n      <th>x136</th>\n      <th>x137</th>\n      <th>x144</th>\n      <th>x145</th>\n    </tr>\n  </thead>\n  <tbody>\n    <tr>\n      <td>0</td>\n      <td>0.837674</td>\n      <td>0.072627</td>\n      <td>0.869502</td>\n      <td>0.279803</td>\n      <td>0.297919</td>\n      <td>0.619213</td>\n      <td>0.995370</td>\n      <td>0.0</td>\n      <td>0.94</td>\n      <td>0.623843</td>\n      <td>...</td>\n      <td>0.072627</td>\n      <td>0.869502</td>\n      <td>0.279803</td>\n      <td>0.298795</td>\n      <td>0.315104</td>\n      <td>0.990917</td>\n      <td>7.0</td>\n      <td>0.885000</td>\n      <td>0.623843</td>\n      <td>0.285871</td>\n    </tr>\n    <tr>\n      <td>1</td>\n      <td>1.289474</td>\n      <td>0.082577</td>\n      <td>0.948578</td>\n      <td>0.069268</td>\n      <td>0.527802</td>\n      <td>0.937689</td>\n      <td>0.998790</td>\n      <td>0.0</td>\n      <td>0.85</td>\n      <td>0.938899</td>\n      <td>...</td>\n      <td>0.082577</td>\n      <td>0.948578</td>\n      <td>0.069268</td>\n      <td>0.530368</td>\n      <td>0.924985</td>\n      <td>0.992740</td>\n      <td>0.0</td>\n      <td>0.670000</td>\n      <td>0.932244</td>\n      <td>0.526946</td>\n    </tr>\n    <tr>\n      <td>2</td>\n      <td>0.653912</td>\n      <td>0.041257</td>\n      <td>0.941000</td>\n      <td>0.090423</td>\n      <td>0.422868</td>\n      <td>0.651347</td>\n      <td>0.982471</td>\n      <td>0.0</td>\n      <td>0.97</td>\n      <td>0.668876</td>\n      <td>...</td>\n      <td>0.041257</td>\n      <td>0.941000</td>\n      <td>0.090423</td>\n      <td>0.424077</td>\n      <td>0.433091</td>\n      <td>0.947951</td>\n      <td>1.5</td>\n      <td>0.963333</td>\n      <td>0.668876</td>\n      <td>0.412886</td>\n    </tr>\n    <tr>\n      <td>3</td>\n      <td>1.179921</td>\n      <td>0.051104</td>\n      <td>0.949501</td>\n      <td>0.270638</td>\n      <td>0.411161</td>\n      <td>0.753553</td>\n      <td>0.995162</td>\n      <td>0.0</td>\n      <td>0.95</td>\n      <td>0.758391</td>\n      <td>...</td>\n      <td>0.051104</td>\n      <td>0.949501</td>\n      <td>0.270638</td>\n      <td>0.411375</td>\n      <td>0.732083</td>\n      <td>0.993650</td>\n      <td>0.0</td>\n      <td>0.950000</td>\n      <td>0.738434</td>\n      <td>0.404105</td>\n    </tr>\n    <tr>\n      <td>4</td>\n      <td>0.706815</td>\n      <td>0.000000</td>\n      <td>1.000000</td>\n      <td>0.000000</td>\n      <td>0.503363</td>\n      <td>0.568938</td>\n      <td>0.973059</td>\n      <td>0.0</td>\n      <td>1.00</td>\n      <td>0.595880</td>\n      <td>...</td>\n      <td>0.000000</td>\n      <td>1.000000</td>\n      <td>0.000000</td>\n      <td>0.503363</td>\n      <td>0.224247</td>\n      <td>0.898574</td>\n      <td>3.0</td>\n      <td>1.000000</td>\n      <td>0.595880</td>\n      <td>0.489910</td>\n    </tr>\n  </tbody>\n</table>\n<p>5 rows × 55 columns</p>\n</div>"
     },
     "metadata": {},
     "output_type": "execute_result",
     "execution_count": 12
    }
   ],
   "source": [
    "X[X_float_col].head()"
   ],
   "metadata": {
    "collapsed": false,
    "pycharm": {
     "name": "#%%\n",
     "is_executing": false
    }
   }
  },
  {
   "cell_type": "code",
   "execution_count": 9,
   "outputs": [
    {
     "data": {
      "text/plain": "                                             x3  \\\n0  rpoSk1aXo+6hZQxVMp/PAw8+w67/vzWkyQs/xGqFCnw=   \n1  /VV6+dCb+in5lV7V/e9b5HoZ/BN34M+dPmKWY8BeHh4=   \n2  MZZbXga8gvaCBqWpzrh2iKdOkcsz/bG/z4BVjUnqWT0=   \n3  X/hdUOVR5KuExVGLzjhLcM2CyIqym9t0Nh+ZX05M+1w=   \n4  4FIxS25OrBv/DHbmmVLtScptssXXAhNxD087PPzA9BU=   \n\n                                             x4  \\\n0  hCXwO/JldK5zcd9ejOD1FwmEgCf96eTdEVy7OtY2Y2g=   \n1  hCXwO/JldK5zcd9ejOD1FwmEgCf96eTdEVy7OtY2Y2g=   \n2  YvZUuCDjLu9VvkCdBWgARWQrvm+FSXgxp0zIrMjcLBc=   \n3  +yhSY//Hpg7u0bSA7NYmcmRFgv3bF4Tw3BMHrBqaTtA=   \n4  B+EJpnEbkYtLnwDQYN1dP1rcfnoCnxAjKLYwQZE07Ew=   \n\n                                            x34  \\\n0  rpoSk1aXo+6hZQxVMp/PAw8+w67/vzWkyQs/xGqFCnw=   \n1  vBrSPPWbvTBrPn/YdHWxt+pFeV6E5wPpNjXS8RILB88=   \n2  YDvUCZu63XmryhV8xiJBhsWEYeM3giPDKXmzpKBDxdc=   \n3  8Whd23AFTt1KV61HEnaVzYZCSZsw5sqqmf4WUmWd3bQ=   \n4  xTrPdVJop7A4z6r8XR9ZqxHDaeGn/EWMXEalNIGdbUk=   \n\n                                            x35  \\\n0  hCXwO/JldK5zcd9ejOD1FwmEgCf96eTdEVy7OtY2Y2g=   \n1  N8wBprLMRuVKWZMBXX9JHVBdT6S9zQ+NL1ZfWnoGQrk=   \n2  B+EJpnEbkYtLnwDQYN1dP1rcfnoCnxAjKLYwQZE07Ew=   \n3  +yhSY//Hpg7u0bSA7NYmcmRFgv3bF4Tw3BMHrBqaTtA=   \n4  wueA/6OX5rJJgWep/A3FouhsW3Oup3Te1LLzxFjRZ3I=   \n\n                                            x61  \\\n0  EfLSpSt1wC0MjAdFeWuFDYR2laBmHlXisFYHkb7CIIQ=   \n1  0DeSv/rVzbodXvNJK0+KRGddE1skGm60/T8G7xoLB4g=   \n2  bCou8rTLsVvraVfOMQ+PxfDbaX5b2+tIkuRaNCGPgEw=   \n3  8Whd23AFTt1KV61HEnaVzYZCSZsw5sqqmf4WUmWd3bQ=   \n4  9mx6vCyxztkC0/4nqSSLnaDoFkEtpTHi3LzpnellMDg=   \n\n                                            x64  \\\n0  X/hdUOVR5KuExVGLzjhLcM2CyIqym9t0Nh+ZX05M+1w=   \n1  m/m91A62TG6D7crdQTdYd9eeMO8xNcbN7N7iwgclLp0=   \n2  MZZbXga8gvaCBqWpzrh2iKdOkcsz/bG/z4BVjUnqWT0=   \n3  8Whd23AFTt1KV61HEnaVzYZCSZsw5sqqmf4WUmWd3bQ=   \n4  xTrPdVJop7A4z6r8XR9ZqxHDaeGn/EWMXEalNIGdbUk=   \n\n                                            x65  \\\n0  +yhSY//Hpg7u0bSA7NYmcmRFgv3bF4Tw3BMHrBqaTtA=   \n1  +yhSY//Hpg7u0bSA7NYmcmRFgv3bF4Tw3BMHrBqaTtA=   \n2  YvZUuCDjLu9VvkCdBWgARWQrvm+FSXgxp0zIrMjcLBc=   \n3  +yhSY//Hpg7u0bSA7NYmcmRFgv3bF4Tw3BMHrBqaTtA=   \n4  wueA/6OX5rJJgWep/A3FouhsW3Oup3Te1LLzxFjRZ3I=   \n\n                                            x91  \\\n0  UB4XMFemJzxaAfdj75Bwjm7xYNDCzCkUk7ANRZlr034=   \n1  N8wBprLMRuVKWZMBXX9JHVBdT6S9zQ+NL1ZfWnoGQrk=   \n2  Q4Bg+jJRQ1ivy6iLEkWu2O+LgzkeqHGxW+q3MXgJqtc=   \n3  +yhSY//Hpg7u0bSA7NYmcmRFgv3bF4Tw3BMHrBqaTtA=   \n4  FHs4ckB5vuW2CnNz8QXDKdqnhZeKUWmCGl84gU0YpOQ=   \n\n                                            x94  \\\n0  X/hdUOVR5KuExVGLzjhLcM2CyIqym9t0Nh+ZX05M+1w=   \n1  wVxsLFUAZzdPJIUFpt1aktySAsTOyUo72bEDtGlI+RQ=   \n2  MZZbXga8gvaCBqWpzrh2iKdOkcsz/bG/z4BVjUnqWT0=   \n3  p8+Fg/7zVuXwMfQhnbFo6jWbBSc9xt7pQ/ZZRzVmxNE=   \n4  mPvFNpHgDw4+ry3ew4Udv9ewcU7LQ5PC1iPNPXZcRcw=   \n\n                                            x95  \n0  +yhSY//Hpg7u0bSA7NYmcmRFgv3bF4Tw3BMHrBqaTtA=  \n1  IoM2E9pNxABFR+H3yfapUL+ThKm7GtTzY7js9H/H99o=  \n2  YvZUuCDjLu9VvkCdBWgARWQrvm+FSXgxp0zIrMjcLBc=  \n3  +yhSY//Hpg7u0bSA7NYmcmRFgv3bF4Tw3BMHrBqaTtA=  \n4  bvw4TBmE4y4uNMa25WcnFYtEBgSwmT6fAm7KrXKV9Og=  ",
      "text/html": "<div>\n<style scoped>\n    .dataframe tbody tr th:only-of-type {\n        vertical-align: middle;\n    }\n\n    .dataframe tbody tr th {\n        vertical-align: top;\n    }\n\n    .dataframe thead th {\n        text-align: right;\n    }\n</style>\n<table border=\"1\" class=\"dataframe\">\n  <thead>\n    <tr style=\"text-align: right;\">\n      <th></th>\n      <th>x3</th>\n      <th>x4</th>\n      <th>x34</th>\n      <th>x35</th>\n      <th>x61</th>\n      <th>x64</th>\n      <th>x65</th>\n      <th>x91</th>\n      <th>x94</th>\n      <th>x95</th>\n    </tr>\n  </thead>\n  <tbody>\n    <tr>\n      <td>0</td>\n      <td>rpoSk1aXo+6hZQxVMp/PAw8+w67/vzWkyQs/xGqFCnw=</td>\n      <td>hCXwO/JldK5zcd9ejOD1FwmEgCf96eTdEVy7OtY2Y2g=</td>\n      <td>rpoSk1aXo+6hZQxVMp/PAw8+w67/vzWkyQs/xGqFCnw=</td>\n      <td>hCXwO/JldK5zcd9ejOD1FwmEgCf96eTdEVy7OtY2Y2g=</td>\n      <td>EfLSpSt1wC0MjAdFeWuFDYR2laBmHlXisFYHkb7CIIQ=</td>\n      <td>X/hdUOVR5KuExVGLzjhLcM2CyIqym9t0Nh+ZX05M+1w=</td>\n      <td>+yhSY//Hpg7u0bSA7NYmcmRFgv3bF4Tw3BMHrBqaTtA=</td>\n      <td>UB4XMFemJzxaAfdj75Bwjm7xYNDCzCkUk7ANRZlr034=</td>\n      <td>X/hdUOVR5KuExVGLzjhLcM2CyIqym9t0Nh+ZX05M+1w=</td>\n      <td>+yhSY//Hpg7u0bSA7NYmcmRFgv3bF4Tw3BMHrBqaTtA=</td>\n    </tr>\n    <tr>\n      <td>1</td>\n      <td>/VV6+dCb+in5lV7V/e9b5HoZ/BN34M+dPmKWY8BeHh4=</td>\n      <td>hCXwO/JldK5zcd9ejOD1FwmEgCf96eTdEVy7OtY2Y2g=</td>\n      <td>vBrSPPWbvTBrPn/YdHWxt+pFeV6E5wPpNjXS8RILB88=</td>\n      <td>N8wBprLMRuVKWZMBXX9JHVBdT6S9zQ+NL1ZfWnoGQrk=</td>\n      <td>0DeSv/rVzbodXvNJK0+KRGddE1skGm60/T8G7xoLB4g=</td>\n      <td>m/m91A62TG6D7crdQTdYd9eeMO8xNcbN7N7iwgclLp0=</td>\n      <td>+yhSY//Hpg7u0bSA7NYmcmRFgv3bF4Tw3BMHrBqaTtA=</td>\n      <td>N8wBprLMRuVKWZMBXX9JHVBdT6S9zQ+NL1ZfWnoGQrk=</td>\n      <td>wVxsLFUAZzdPJIUFpt1aktySAsTOyUo72bEDtGlI+RQ=</td>\n      <td>IoM2E9pNxABFR+H3yfapUL+ThKm7GtTzY7js9H/H99o=</td>\n    </tr>\n    <tr>\n      <td>2</td>\n      <td>MZZbXga8gvaCBqWpzrh2iKdOkcsz/bG/z4BVjUnqWT0=</td>\n      <td>YvZUuCDjLu9VvkCdBWgARWQrvm+FSXgxp0zIrMjcLBc=</td>\n      <td>YDvUCZu63XmryhV8xiJBhsWEYeM3giPDKXmzpKBDxdc=</td>\n      <td>B+EJpnEbkYtLnwDQYN1dP1rcfnoCnxAjKLYwQZE07Ew=</td>\n      <td>bCou8rTLsVvraVfOMQ+PxfDbaX5b2+tIkuRaNCGPgEw=</td>\n      <td>MZZbXga8gvaCBqWpzrh2iKdOkcsz/bG/z4BVjUnqWT0=</td>\n      <td>YvZUuCDjLu9VvkCdBWgARWQrvm+FSXgxp0zIrMjcLBc=</td>\n      <td>Q4Bg+jJRQ1ivy6iLEkWu2O+LgzkeqHGxW+q3MXgJqtc=</td>\n      <td>MZZbXga8gvaCBqWpzrh2iKdOkcsz/bG/z4BVjUnqWT0=</td>\n      <td>YvZUuCDjLu9VvkCdBWgARWQrvm+FSXgxp0zIrMjcLBc=</td>\n    </tr>\n    <tr>\n      <td>3</td>\n      <td>X/hdUOVR5KuExVGLzjhLcM2CyIqym9t0Nh+ZX05M+1w=</td>\n      <td>+yhSY//Hpg7u0bSA7NYmcmRFgv3bF4Tw3BMHrBqaTtA=</td>\n      <td>8Whd23AFTt1KV61HEnaVzYZCSZsw5sqqmf4WUmWd3bQ=</td>\n      <td>+yhSY//Hpg7u0bSA7NYmcmRFgv3bF4Tw3BMHrBqaTtA=</td>\n      <td>8Whd23AFTt1KV61HEnaVzYZCSZsw5sqqmf4WUmWd3bQ=</td>\n      <td>8Whd23AFTt1KV61HEnaVzYZCSZsw5sqqmf4WUmWd3bQ=</td>\n      <td>+yhSY//Hpg7u0bSA7NYmcmRFgv3bF4Tw3BMHrBqaTtA=</td>\n      <td>+yhSY//Hpg7u0bSA7NYmcmRFgv3bF4Tw3BMHrBqaTtA=</td>\n      <td>p8+Fg/7zVuXwMfQhnbFo6jWbBSc9xt7pQ/ZZRzVmxNE=</td>\n      <td>+yhSY//Hpg7u0bSA7NYmcmRFgv3bF4Tw3BMHrBqaTtA=</td>\n    </tr>\n    <tr>\n      <td>4</td>\n      <td>4FIxS25OrBv/DHbmmVLtScptssXXAhNxD087PPzA9BU=</td>\n      <td>B+EJpnEbkYtLnwDQYN1dP1rcfnoCnxAjKLYwQZE07Ew=</td>\n      <td>xTrPdVJop7A4z6r8XR9ZqxHDaeGn/EWMXEalNIGdbUk=</td>\n      <td>wueA/6OX5rJJgWep/A3FouhsW3Oup3Te1LLzxFjRZ3I=</td>\n      <td>9mx6vCyxztkC0/4nqSSLnaDoFkEtpTHi3LzpnellMDg=</td>\n      <td>xTrPdVJop7A4z6r8XR9ZqxHDaeGn/EWMXEalNIGdbUk=</td>\n      <td>wueA/6OX5rJJgWep/A3FouhsW3Oup3Te1LLzxFjRZ3I=</td>\n      <td>FHs4ckB5vuW2CnNz8QXDKdqnhZeKUWmCGl84gU0YpOQ=</td>\n      <td>mPvFNpHgDw4+ry3ew4Udv9ewcU7LQ5PC1iPNPXZcRcw=</td>\n      <td>bvw4TBmE4y4uNMa25WcnFYtEBgSwmT6fAm7KrXKV9Og=</td>\n    </tr>\n  </tbody>\n</table>\n</div>"
     },
     "metadata": {},
     "output_type": "execute_result",
     "execution_count": 9
    }
   ],
   "source": [
    "X.replace(\"YES\",1, inplace=True)\n",
    "X.replace(\"NO\",0, inplace=True)\n",
    "cat = X.dtypes[X.dtypes=='object'].index\n",
    "X[cat].head()"
   ],
   "metadata": {
    "collapsed": false,
    "pycharm": {
     "name": "#%%\n",
     "is_executing": false
    }
   }
  },
  {
   "cell_type": "code",
   "execution_count": null,
   "outputs": [],
   "source": [],
   "metadata": {
    "collapsed": false,
    "pycharm": {
     "name": "#%%\n"
    }
   }
  },
  {
   "cell_type": "markdown",
   "source": [
    "# Réduction de dimensionnalité (PCA)"
   ],
   "metadata": {
    "collapsed": false,
    "pycharm": {
     "name": "#%% md\n"
    }
   }
  },
  {
   "cell_type": "markdown",
   "source": [
    "Nous allons d'abord normaliser les données"
   ],
   "metadata": {
    "collapsed": false,
    "pycharm": {
     "name": "#%% md\n"
    }
   }
  },
  {
   "cell_type": "code",
   "execution_count": null,
   "outputs": [],
   "source": [
    "np.where()"
   ],
   "metadata": {
    "collapsed": false,
    "pycharm": {
     "name": "#%%\n"
    }
   }
  },
  {
   "cell_type": "code",
   "execution_count": 1,
   "outputs": [
    {
     "traceback": [
      "\u001b[1;31m---------------------------------------------------------------------------\u001b[0m",
      "\u001b[1;31mNameError\u001b[0m                                 Traceback (most recent call last)",
      "\u001b[1;32m<ipython-input-1-9b1a89bdec13>\u001b[0m in \u001b[0;36m<module>\u001b[1;34m\u001b[0m\n\u001b[1;32m----> 1\u001b[1;33m \u001b[0mtrainLabels\u001b[0m\u001b[1;33m.\u001b[0m\u001b[0mhead\u001b[0m\u001b[1;33m(\u001b[0m\u001b[1;33m)\u001b[0m\u001b[1;33m\u001b[0m\u001b[1;33m\u001b[0m\u001b[0m\n\u001b[0m",
      "\u001b[1;31mNameError\u001b[0m: name 'trainLabels' is not defined"
     ],
     "ename": "NameError",
     "evalue": "name 'trainLabels' is not defined",
     "output_type": "error"
    }
   ],
   "source": [
    "trainLabels.head()"
   ],
   "metadata": {
    "collapsed": false,
    "pycharm": {
     "name": "#%%\n",
     "is_executing": false
    }
   }
  },
  {
   "cell_type": "code",
   "execution_count": null,
   "outputs": [],
   "source": [],
   "metadata": {
    "collapsed": false,
    "pycharm": {
     "name": "#%%\n"
    }
   }
  },
  {
   "cell_type": "code",
   "execution_count": null,
   "outputs": [],
   "source": [
    "\n",
    "\n",
    "\n",
    "\n",
    "\n",
    "\n",
    "\n",
    "\n",
    "\n",
    "\n",
    "\n",
    "\n",
    "\n",
    "\n",
    "\n",
    "\n",
    "\n",
    "\n",
    "\n",
    "\n",
    "\n",
    "\n"
   ],
   "metadata": {
    "collapsed": false,
    "pycharm": {
     "name": "#%%\n"
    }
   }
  },
  {
   "cell_type": "code",
   "execution_count": null,
   "outputs": [],
   "source": [
    "df_features1 = scaler.fit_transform(df_features)"
   ],
   "metadata": {
    "collapsed": false,
    "pycharm": {
     "name": "#%%\n"
    }
   }
  },
  {
   "cell_type": "code",
   "execution_count": null,
   "outputs": [],
   "source": [
    "df_features2 = pd.DataFrame(data=df_features1, columns=list(df_features.columns))"
   ],
   "metadata": {
    "collapsed": false,
    "pycharm": {
     "name": "#%%\n"
    }
   }
  },
  {
   "cell_type": "code",
   "execution_count": null,
   "outputs": [],
   "source": [
    "df_features2.head()"
   ],
   "metadata": {
    "collapsed": false,
    "pycharm": {
     "name": "#%%\n"
    }
   }
  },
  {
   "cell_type": "code",
   "execution_count": null,
   "outputs": [],
   "source": [
    "# PCA\n",
    "from sklearn.decomposition import PCA\n",
    "pca = PCA(n_components=33)"
   ],
   "metadata": {
    "collapsed": false,
    "pycharm": {
     "name": "#%%\n"
    }
   }
  },
  {
   "cell_type": "code",
   "execution_count": null,
   "outputs": [],
   "source": [
    "df = pca.fit_transform(df_features2)"
   ],
   "metadata": {
    "collapsed": false,
    "pycharm": {
     "name": "#%%\n"
    }
   }
  },
  {
   "cell_type": "code",
   "execution_count": null,
   "outputs": [],
   "source": [
    "from sklearn.model_selection import train_test_split\n",
    "X_train, x, y_train, y = train_test_split(df, df_targets, test_size = 0.3, random_state=1236)\n",
    "X_val, X_test, y_val, y_test = train_test_split(x,y, test_size=0.5, random_state=1236)"
   ],
   "metadata": {
    "collapsed": false,
    "pycharm": {
     "name": "#%%\n"
    }
   }
  },
  {
   "cell_type": "code",
   "execution_count": null,
   "outputs": [],
   "source": [
    "print(\"Train set 70%\")\n",
    "print(f\"X Train set size: {X_train.shape}\")\n",
    "print(f\"y Train set size: {y_train.shape}\\n\")\n",
    "\n",
    "print(\"Validation set 15%\")\n",
    "print(f\"X validation set size: {X_val.shape}\")\n",
    "print(f\"y validation set size: {y_val.shape}\")\n",
    "\n",
    "print(\"test set 15%\")\n",
    "print(f\"X test set size: {X_test.shape}\")\n",
    "print(f\"y test set size: {y_test.shape}\")"
   ],
   "metadata": {
    "collapsed": false,
    "pycharm": {
     "name": "#%%\n"
    }
   }
  },
  {
   "cell_type": "markdown",
   "source": [
    "# Entrainement des modèles"
   ],
   "metadata": {
    "collapsed": false,
    "pycharm": {
     "name": "#%% md\n"
    }
   }
  },
  {
   "cell_type": "markdown",
   "source": [
    "## 1 - Label Transformation method\n",
    "Il en existe 3 methode\n",
    "* Binary Relevance\n",
    "* Classification chain\n",
    "* Label Powerset"
   ],
   "metadata": {
    "collapsed": false,
    "pycharm": {
     "name": "#%% md\n"
    }
   }
  },
  {
   "cell_type": "markdown",
   "source": [
    "### 1.a - Binary relevance avec le reseau des neuronnes"
   ],
   "metadata": {
    "collapsed": false,
    "pycharm": {
     "name": "#%% md\n"
    }
   }
  },
  {
   "cell_type": "code",
   "execution_count": null,
   "outputs": [],
   "source": [
    "from skmultilearn.problem_transform import BinaryRelevance, ClassifierChain, LabelPowerset\n",
    "from sklearn.metrics import accuracy_score, hamming_loss\n",
    "from tensorflow import keras\n",
    "from sklearn.neural_network import MLPClassifier"
   ],
   "metadata": {
    "collapsed": false,
    "pycharm": {
     "name": "#%%\n"
    }
   }
  },
  {
   "cell_type": "code",
   "execution_count": null,
   "outputs": [],
   "source": [
    "# MLP Classifier\n",
    "mlp_clf = MLPClassifier()\n",
    "br_mlp = BinaryRelevance(mlp_clf)"
   ],
   "metadata": {
    "collapsed": false,
    "pycharm": {
     "name": "#%%\n"
    }
   }
  },
  {
   "cell_type": "code",
   "execution_count": null,
   "outputs": [],
   "source": [
    "br_mlp.fit(X_train, y_train)"
   ],
   "metadata": {
    "collapsed": false,
    "pycharm": {
     "name": "#%%\n"
    }
   }
  },
  {
   "cell_type": "markdown",
   "source": [
    "le modele avec tous ces paramètres  \n",
    "BinaryRelevance(classifier=MLPClassifier(activation='relu', alpha=0.0001, batch_size='auto', beta_1=0.9,\n",
    "       beta_2=0.999, early_stopping=False, epsilon=1e-08,\n",
    "       hidden_layer_sizes=(100,), learning_rate='constant',\n",
    "       learning_rate_init=0.001, max_iter=200, momentum=0.9,\n",
    "       n_iter_no_change=10, nesterovs_momentum=True, power_t=0.5,\n",
    "       random_state=None, shuffle=True, solver='adam', tol=0.0001,\n",
    "       validation_fraction=0.1, verbose=False, warm_start=False),\n",
    "        require_dense=[True, True])"
   ],
   "metadata": {
    "collapsed": false,
    "pycharm": {
     "name": "#%% md\n"
    }
   }
  },
  {
   "cell_type": "code",
   "execution_count": null,
   "outputs": [],
   "source": [
    "y_pred = br_mlp.predict(X_test)"
   ],
   "metadata": {
    "collapsed": false,
    "pycharm": {
     "name": "#%%\n"
    }
   }
  },
  {
   "cell_type": "code",
   "execution_count": null,
   "outputs": [],
   "source": [
    "# accuracy score\n",
    "accuracy_score(y_test, y_pred)"
   ],
   "metadata": {
    "collapsed": false,
    "pycharm": {
     "name": "#%%\n"
    }
   }
  },
  {
   "cell_type": "markdown",
   "source": [
    "On obtient un accuracy de 83.65 %\n"
   ],
   "metadata": {
    "collapsed": false,
    "pycharm": {
     "name": "#%% md\n"
    }
   }
  }
 ],
 "metadata": {
  "language_info": {
   "codemirror_mode": {
    "name": "ipython",
    "version": 2
   },
   "file_extension": ".py",
   "mimetype": "text/x-python",
   "name": "python",
   "nbconvert_exporter": "python",
   "pygments_lexer": "ipython2",
   "version": "2.7.6"
  },
  "kernelspec": {
   "name": "python3",
   "language": "python",
   "display_name": "Python 3"
  },
  "pycharm": {
   "stem_cell": {
    "cell_type": "raw",
    "source": [],
    "metadata": {
     "collapsed": false
    }
   }
  }
 },
 "nbformat": 4,
 "nbformat_minor": 0
}
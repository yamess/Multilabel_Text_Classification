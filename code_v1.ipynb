{
 "cells": [
  {
   "cell_type": "code",
   "execution_count": 2,
   "metadata": {
    "collapsed": true,
    "pycharm": {
     "name": "#%%\n",
     "is_executing": false
    }
   },
   "outputs": [],
   "source": [
    "import pandas as pd\n",
    "import numpy as np\n",
    "import time\n",
    "from sklearn.metrics import accuracy_score\n",
    "from sklearn.preprocessing import StandardScaler"
   ]
  },
  {
   "cell_type": "code",
   "execution_count": 3,
   "outputs": [],
   "source": [
    "# Timing decorator to find exécution time of function\n",
    "def timing(func):\n",
    "    def wrapper(*args, **kwargs):\n",
    "        print(\"Calculation start\")\n",
    "        start = time.perf_counter()\n",
    "        data = func(*args, **kwargs)\n",
    "        print(\"Finished!\")\n",
    "        end = time.perf_counter()\n",
    "        print(f\"Execution time: {round(end-start,2)} second(s)\")\n",
    "        return data\n",
    "    return wrapper"
   ],
   "metadata": {
    "collapsed": false,
    "pycharm": {
     "name": "#%%\n",
     "is_executing": false
    }
   }
  },
  {
   "cell_type": "code",
   "execution_count": 4,
   "outputs": [],
   "source": [
    "@timing\n",
    "def read_data(path):\n",
    "    d = pd.read_csv(path)\n",
    "    return d"
   ],
   "metadata": {
    "collapsed": false,
    "pycharm": {
     "name": "#%%\n",
     "is_executing": false
    }
   }
  },
  {
   "cell_type": "code",
   "execution_count": 5,
   "outputs": [
    {
     "name": "stdout",
     "text": [
      "Calculation start\n",
      "Finished!\nExecution time: 18.79 second(s)\n"
     ],
     "output_type": "stream"
    }
   ],
   "source": [
    "X = read_data(\"X.csv\")"
   ],
   "metadata": {
    "collapsed": false,
    "pycharm": {
     "name": "#%%\n",
     "is_executing": false
    }
   }
  },
  {
   "cell_type": "code",
   "execution_count": 6,
   "outputs": [
    {
     "name": "stdout",
     "text": [
      "Calculation start\n",
      "Finished!\nExecution time: 1.29 second(s)\n"
     ],
     "output_type": "stream"
    }
   ],
   "source": [
    "y = read_data(\"y_1.csv\")"
   ],
   "metadata": {
    "collapsed": false,
    "pycharm": {
     "name": "#%%\n",
     "is_executing": false
    }
   }
  },
  {
   "cell_type": "code",
   "execution_count": 7,
   "outputs": [
    {
     "data": {
      "text/plain": "    x1   x2                                            x3  \\\n0   NO   NO  rpoSk1aXo+6hZQxVMp/PAw8+w67/vzWkyQs/xGqFCnw=   \n1   NO   NO  /VV6+dCb+in5lV7V/e9b5HoZ/BN34M+dPmKWY8BeHh4=   \n2  YES  YES  MZZbXga8gvaCBqWpzrh2iKdOkcsz/bG/z4BVjUnqWT0=   \n3  YES   NO  X/hdUOVR5KuExVGLzjhLcM2CyIqym9t0Nh+ZX05M+1w=   \n4   NO   NO  4FIxS25OrBv/DHbmmVLtScptssXXAhNxD087PPzA9BU=   \n\n                                             x4        x5        x6        x7  \\\n0  hCXwO/JldK5zcd9ejOD1FwmEgCf96eTdEVy7OtY2Y2g=  0.837674  0.072627  0.869502   \n1  hCXwO/JldK5zcd9ejOD1FwmEgCf96eTdEVy7OtY2Y2g=  1.289474  0.082577  0.948578   \n2  YvZUuCDjLu9VvkCdBWgARWQrvm+FSXgxp0zIrMjcLBc=  0.653912  0.041257  0.941000   \n3  +yhSY//Hpg7u0bSA7NYmcmRFgv3bF4Tw3BMHrBqaTtA=  1.179921  0.051104  0.949501   \n4  B+EJpnEbkYtLnwDQYN1dP1rcfnoCnxAjKLYwQZE07Ew=  0.706815  0.000000  1.000000   \n\n         x8        x9  x10  ... x136      x137  x138  x139  x140  x141  x142  \\\n0  0.279803  0.297919   NO  ...  7.0  0.885000  4565  3456   YES    NO   YES   \n1  0.069268  0.527802   NO  ...  0.0  0.670000  4676  3306   YES    NO   YES   \n2  0.090423  0.422868  YES  ...  1.5  0.963333  3306  4678   YES    NO   YES   \n3  0.270638  0.411161  YES  ...  0.0  0.950000  4677  3307   YES    NO   YES   \n4  0.000000  0.503363  YES  ...  3.0  1.000000   892  1262    NO    NO   YES   \n\n   x143      x144      x145  \n0     4  0.623843  0.285871  \n1     0  0.932244  0.526946  \n2    11  0.668876  0.412886  \n3     4  0.738434  0.404105  \n4     7  0.595880  0.489910  \n\n[5 rows x 145 columns]",
      "text/html": "<div>\n<style scoped>\n    .dataframe tbody tr th:only-of-type {\n        vertical-align: middle;\n    }\n\n    .dataframe tbody tr th {\n        vertical-align: top;\n    }\n\n    .dataframe thead th {\n        text-align: right;\n    }\n</style>\n<table border=\"1\" class=\"dataframe\">\n  <thead>\n    <tr style=\"text-align: right;\">\n      <th></th>\n      <th>x1</th>\n      <th>x2</th>\n      <th>x3</th>\n      <th>x4</th>\n      <th>x5</th>\n      <th>x6</th>\n      <th>x7</th>\n      <th>x8</th>\n      <th>x9</th>\n      <th>x10</th>\n      <th>...</th>\n      <th>x136</th>\n      <th>x137</th>\n      <th>x138</th>\n      <th>x139</th>\n      <th>x140</th>\n      <th>x141</th>\n      <th>x142</th>\n      <th>x143</th>\n      <th>x144</th>\n      <th>x145</th>\n    </tr>\n  </thead>\n  <tbody>\n    <tr>\n      <td>0</td>\n      <td>NO</td>\n      <td>NO</td>\n      <td>rpoSk1aXo+6hZQxVMp/PAw8+w67/vzWkyQs/xGqFCnw=</td>\n      <td>hCXwO/JldK5zcd9ejOD1FwmEgCf96eTdEVy7OtY2Y2g=</td>\n      <td>0.837674</td>\n      <td>0.072627</td>\n      <td>0.869502</td>\n      <td>0.279803</td>\n      <td>0.297919</td>\n      <td>NO</td>\n      <td>...</td>\n      <td>7.0</td>\n      <td>0.885000</td>\n      <td>4565</td>\n      <td>3456</td>\n      <td>YES</td>\n      <td>NO</td>\n      <td>YES</td>\n      <td>4</td>\n      <td>0.623843</td>\n      <td>0.285871</td>\n    </tr>\n    <tr>\n      <td>1</td>\n      <td>NO</td>\n      <td>NO</td>\n      <td>/VV6+dCb+in5lV7V/e9b5HoZ/BN34M+dPmKWY8BeHh4=</td>\n      <td>hCXwO/JldK5zcd9ejOD1FwmEgCf96eTdEVy7OtY2Y2g=</td>\n      <td>1.289474</td>\n      <td>0.082577</td>\n      <td>0.948578</td>\n      <td>0.069268</td>\n      <td>0.527802</td>\n      <td>NO</td>\n      <td>...</td>\n      <td>0.0</td>\n      <td>0.670000</td>\n      <td>4676</td>\n      <td>3306</td>\n      <td>YES</td>\n      <td>NO</td>\n      <td>YES</td>\n      <td>0</td>\n      <td>0.932244</td>\n      <td>0.526946</td>\n    </tr>\n    <tr>\n      <td>2</td>\n      <td>YES</td>\n      <td>YES</td>\n      <td>MZZbXga8gvaCBqWpzrh2iKdOkcsz/bG/z4BVjUnqWT0=</td>\n      <td>YvZUuCDjLu9VvkCdBWgARWQrvm+FSXgxp0zIrMjcLBc=</td>\n      <td>0.653912</td>\n      <td>0.041257</td>\n      <td>0.941000</td>\n      <td>0.090423</td>\n      <td>0.422868</td>\n      <td>YES</td>\n      <td>...</td>\n      <td>1.5</td>\n      <td>0.963333</td>\n      <td>3306</td>\n      <td>4678</td>\n      <td>YES</td>\n      <td>NO</td>\n      <td>YES</td>\n      <td>11</td>\n      <td>0.668876</td>\n      <td>0.412886</td>\n    </tr>\n    <tr>\n      <td>3</td>\n      <td>YES</td>\n      <td>NO</td>\n      <td>X/hdUOVR5KuExVGLzjhLcM2CyIqym9t0Nh+ZX05M+1w=</td>\n      <td>+yhSY//Hpg7u0bSA7NYmcmRFgv3bF4Tw3BMHrBqaTtA=</td>\n      <td>1.179921</td>\n      <td>0.051104</td>\n      <td>0.949501</td>\n      <td>0.270638</td>\n      <td>0.411161</td>\n      <td>YES</td>\n      <td>...</td>\n      <td>0.0</td>\n      <td>0.950000</td>\n      <td>4677</td>\n      <td>3307</td>\n      <td>YES</td>\n      <td>NO</td>\n      <td>YES</td>\n      <td>4</td>\n      <td>0.738434</td>\n      <td>0.404105</td>\n    </tr>\n    <tr>\n      <td>4</td>\n      <td>NO</td>\n      <td>NO</td>\n      <td>4FIxS25OrBv/DHbmmVLtScptssXXAhNxD087PPzA9BU=</td>\n      <td>B+EJpnEbkYtLnwDQYN1dP1rcfnoCnxAjKLYwQZE07Ew=</td>\n      <td>0.706815</td>\n      <td>0.000000</td>\n      <td>1.000000</td>\n      <td>0.000000</td>\n      <td>0.503363</td>\n      <td>YES</td>\n      <td>...</td>\n      <td>3.0</td>\n      <td>1.000000</td>\n      <td>892</td>\n      <td>1262</td>\n      <td>NO</td>\n      <td>NO</td>\n      <td>YES</td>\n      <td>7</td>\n      <td>0.595880</td>\n      <td>0.489910</td>\n    </tr>\n  </tbody>\n</table>\n<p>5 rows × 145 columns</p>\n</div>"
     },
     "metadata": {},
     "output_type": "execute_result",
     "execution_count": 7
    }
   ],
   "source": [
    "X.head()"
   ],
   "metadata": {
    "collapsed": false,
    "pycharm": {
     "name": "#%%\n",
     "is_executing": false
    }
   }
  },
  {
   "cell_type": "code",
   "execution_count": 8,
   "outputs": [
    {
     "data": {
      "text/plain": "   y1  y2  y3  y4  y5  y6  y7  y8  y9  y10  ...  y24  y25  y26  y27  y28  y29  \\\n0   0   0   0   0   0   0   0   0   0    0  ...    0    0    0    0    0    0   \n1   0   0   0   0   0   0   0   0   1    0  ...    0    0    0    0    0    0   \n2   0   0   0   0   0   0   0   0   0    0  ...    0    0    0    0    0    0   \n3   0   0   0   0   0   0   0   1   0    0  ...    0    0    0    0    0    1   \n4   0   0   0   0   0   0   0   0   0    0  ...    0    0    0    0    0    0   \n\n   y30  y31  y32  y33  \n0    0    0    0    1  \n1    0    0    0    0  \n2    0    0    0    1  \n3    0    0    0    0  \n4    0    0    0    1  \n\n[5 rows x 33 columns]",
      "text/html": "<div>\n<style scoped>\n    .dataframe tbody tr th:only-of-type {\n        vertical-align: middle;\n    }\n\n    .dataframe tbody tr th {\n        vertical-align: top;\n    }\n\n    .dataframe thead th {\n        text-align: right;\n    }\n</style>\n<table border=\"1\" class=\"dataframe\">\n  <thead>\n    <tr style=\"text-align: right;\">\n      <th></th>\n      <th>y1</th>\n      <th>y2</th>\n      <th>y3</th>\n      <th>y4</th>\n      <th>y5</th>\n      <th>y6</th>\n      <th>y7</th>\n      <th>y8</th>\n      <th>y9</th>\n      <th>y10</th>\n      <th>...</th>\n      <th>y24</th>\n      <th>y25</th>\n      <th>y26</th>\n      <th>y27</th>\n      <th>y28</th>\n      <th>y29</th>\n      <th>y30</th>\n      <th>y31</th>\n      <th>y32</th>\n      <th>y33</th>\n    </tr>\n  </thead>\n  <tbody>\n    <tr>\n      <td>0</td>\n      <td>0</td>\n      <td>0</td>\n      <td>0</td>\n      <td>0</td>\n      <td>0</td>\n      <td>0</td>\n      <td>0</td>\n      <td>0</td>\n      <td>0</td>\n      <td>0</td>\n      <td>...</td>\n      <td>0</td>\n      <td>0</td>\n      <td>0</td>\n      <td>0</td>\n      <td>0</td>\n      <td>0</td>\n      <td>0</td>\n      <td>0</td>\n      <td>0</td>\n      <td>1</td>\n    </tr>\n    <tr>\n      <td>1</td>\n      <td>0</td>\n      <td>0</td>\n      <td>0</td>\n      <td>0</td>\n      <td>0</td>\n      <td>0</td>\n      <td>0</td>\n      <td>0</td>\n      <td>1</td>\n      <td>0</td>\n      <td>...</td>\n      <td>0</td>\n      <td>0</td>\n      <td>0</td>\n      <td>0</td>\n      <td>0</td>\n      <td>0</td>\n      <td>0</td>\n      <td>0</td>\n      <td>0</td>\n      <td>0</td>\n    </tr>\n    <tr>\n      <td>2</td>\n      <td>0</td>\n      <td>0</td>\n      <td>0</td>\n      <td>0</td>\n      <td>0</td>\n      <td>0</td>\n      <td>0</td>\n      <td>0</td>\n      <td>0</td>\n      <td>0</td>\n      <td>...</td>\n      <td>0</td>\n      <td>0</td>\n      <td>0</td>\n      <td>0</td>\n      <td>0</td>\n      <td>0</td>\n      <td>0</td>\n      <td>0</td>\n      <td>0</td>\n      <td>1</td>\n    </tr>\n    <tr>\n      <td>3</td>\n      <td>0</td>\n      <td>0</td>\n      <td>0</td>\n      <td>0</td>\n      <td>0</td>\n      <td>0</td>\n      <td>0</td>\n      <td>1</td>\n      <td>0</td>\n      <td>0</td>\n      <td>...</td>\n      <td>0</td>\n      <td>0</td>\n      <td>0</td>\n      <td>0</td>\n      <td>0</td>\n      <td>1</td>\n      <td>0</td>\n      <td>0</td>\n      <td>0</td>\n      <td>0</td>\n    </tr>\n    <tr>\n      <td>4</td>\n      <td>0</td>\n      <td>0</td>\n      <td>0</td>\n      <td>0</td>\n      <td>0</td>\n      <td>0</td>\n      <td>0</td>\n      <td>0</td>\n      <td>0</td>\n      <td>0</td>\n      <td>...</td>\n      <td>0</td>\n      <td>0</td>\n      <td>0</td>\n      <td>0</td>\n      <td>0</td>\n      <td>0</td>\n      <td>0</td>\n      <td>0</td>\n      <td>0</td>\n      <td>1</td>\n    </tr>\n  </tbody>\n</table>\n<p>5 rows × 33 columns</p>\n</div>"
     },
     "metadata": {},
     "output_type": "execute_result",
     "execution_count": 8
    }
   ],
   "source": [
    "y.head()"
   ],
   "metadata": {
    "collapsed": false,
    "pycharm": {
     "name": "#%%\n",
     "is_executing": false
    }
   }
  },
  {
   "cell_type": "markdown",
   "source": [
    "# Réduction de dimensionnalité (PCA)"
   ],
   "metadata": {
    "collapsed": false,
    "pycharm": {
     "name": "#%% md\n"
    }
   }
  },
  {
   "cell_type": "markdown",
   "source": [
    "Nous allons d'abord normaliser les données"
   ],
   "metadata": {
    "collapsed": false,
    "pycharm": {
     "name": "#%% md\n"
    }
   }
  },
  {
   "cell_type": "code",
   "execution_count": null,
   "outputs": [],
   "source": [
    "np.where()"
   ],
   "metadata": {
    "collapsed": false,
    "pycharm": {
     "name": "#%%\n"
    }
   }
  },
  {
   "cell_type": "code",
   "execution_count": 1,
   "outputs": [],
   "source": [],
   "metadata": {
    "collapsed": false,
    "pycharm": {
     "name": "#%%\n",
     "is_executing": false
    }
   }
  },
  {
   "cell_type": "code",
   "execution_count": null,
   "outputs": [],
   "source": [
    "\n",
    "\n",
    "\n",
    "\n",
    "\n",
    "\n",
    "\n",
    "\n",
    "\n",
    "\n",
    "\n",
    "\n",
    "\n",
    "\n",
    "\n",
    "\n",
    "\n",
    "\n",
    "\n",
    "\n",
    "\n",
    "\n",
    "\n",
    "\n"
   ],
   "metadata": {
    "collapsed": false,
    "pycharm": {
     "name": "#%%\n"
    }
   }
  },
  {
   "cell_type": "code",
   "execution_count": null,
   "outputs": [],
   "source": [
    "df_features1 = scaler.fit_transform(df_features)"
   ],
   "metadata": {
    "collapsed": false,
    "pycharm": {
     "name": "#%%\n"
    }
   }
  },
  {
   "cell_type": "code",
   "execution_count": null,
   "outputs": [],
   "source": [
    "df_features2 = pd.DataFrame(data=df_features1, columns=list(df_features.columns))"
   ],
   "metadata": {
    "collapsed": false,
    "pycharm": {
     "name": "#%%\n"
    }
   }
  },
  {
   "cell_type": "code",
   "execution_count": null,
   "outputs": [],
   "source": [
    "df_features2.head()"
   ],
   "metadata": {
    "collapsed": false,
    "pycharm": {
     "name": "#%%\n"
    }
   }
  },
  {
   "cell_type": "code",
   "execution_count": null,
   "outputs": [],
   "source": [
    "# PCA\n",
    "from sklearn.decomposition import PCA\n",
    "pca = PCA(n_components=33)"
   ],
   "metadata": {
    "collapsed": false,
    "pycharm": {
     "name": "#%%\n"
    }
   }
  },
  {
   "cell_type": "code",
   "execution_count": null,
   "outputs": [],
   "source": [
    "df = pca.fit_transform(df_features2)"
   ],
   "metadata": {
    "collapsed": false,
    "pycharm": {
     "name": "#%%\n"
    }
   }
  },
  {
   "cell_type": "code",
   "execution_count": null,
   "outputs": [],
   "source": [
    "from sklearn.model_selection import train_test_split\n",
    "X_train, x, y_train, y = train_test_split(df, df_targets, test_size = 0.3, random_state=1236)\n",
    "X_val, X_test, y_val, y_test = train_test_split(x,y, test_size=0.5, random_state=1236)"
   ],
   "metadata": {
    "collapsed": false,
    "pycharm": {
     "name": "#%%\n"
    }
   }
  },
  {
   "cell_type": "code",
   "execution_count": null,
   "outputs": [],
   "source": [
    "print(\"Train set 70%\")\n",
    "print(f\"X Train set size: {X_train.shape}\")\n",
    "print(f\"y Train set size: {y_train.shape}\\n\")\n",
    "\n",
    "print(\"Validation set 15%\")\n",
    "print(f\"X validation set size: {X_val.shape}\")\n",
    "print(f\"y validation set size: {y_val.shape}\")\n",
    "\n",
    "print(\"test set 15%\")\n",
    "print(f\"X test set size: {X_test.shape}\")\n",
    "print(f\"y test set size: {y_test.shape}\")"
   ],
   "metadata": {
    "collapsed": false,
    "pycharm": {
     "name": "#%%\n"
    }
   }
  },
  {
   "cell_type": "markdown",
   "source": [
    "# Entrainement des modèles"
   ],
   "metadata": {
    "collapsed": false,
    "pycharm": {
     "name": "#%% md\n"
    }
   }
  },
  {
   "cell_type": "markdown",
   "source": [
    "## 1 - Label Transformation method\n",
    "Il en existe 3 methode\n",
    "* Binary Relevance\n",
    "* Classification chain\n",
    "* Label Powerset"
   ],
   "metadata": {
    "collapsed": false,
    "pycharm": {
     "name": "#%% md\n"
    }
   }
  },
  {
   "cell_type": "markdown",
   "source": [
    "### 1.a - Binary relevance avec le reseau des neuronnes"
   ],
   "metadata": {
    "collapsed": false,
    "pycharm": {
     "name": "#%% md\n"
    }
   }
  },
  {
   "cell_type": "code",
   "execution_count": null,
   "outputs": [],
   "source": [
    "from skmultilearn.problem_transform import BinaryRelevance, ClassifierChain, LabelPowerset\n",
    "from sklearn.metrics import accuracy_score, hamming_loss\n",
    "from tensorflow import keras\n",
    "from sklearn.neural_network import MLPClassifier"
   ],
   "metadata": {
    "collapsed": false,
    "pycharm": {
     "name": "#%%\n"
    }
   }
  },
  {
   "cell_type": "code",
   "execution_count": null,
   "outputs": [],
   "source": [
    "# MLP Classifier\n",
    "mlp_clf = MLPClassifier()\n",
    "br_mlp = BinaryRelevance(mlp_clf)"
   ],
   "metadata": {
    "collapsed": false,
    "pycharm": {
     "name": "#%%\n"
    }
   }
  },
  {
   "cell_type": "code",
   "execution_count": null,
   "outputs": [],
   "source": [
    "br_mlp.fit(X_train, y_train)"
   ],
   "metadata": {
    "collapsed": false,
    "pycharm": {
     "name": "#%%\n"
    }
   }
  },
  {
   "cell_type": "markdown",
   "source": [
    "le modele avec tous ces paramètres  \n",
    "BinaryRelevance(classifier=MLPClassifier(activation='relu', alpha=0.0001, batch_size='auto', beta_1=0.9,\n",
    "       beta_2=0.999, early_stopping=False, epsilon=1e-08,\n",
    "       hidden_layer_sizes=(100,), learning_rate='constant',\n",
    "       learning_rate_init=0.001, max_iter=200, momentum=0.9,\n",
    "       n_iter_no_change=10, nesterovs_momentum=True, power_t=0.5,\n",
    "       random_state=None, shuffle=True, solver='adam', tol=0.0001,\n",
    "       validation_fraction=0.1, verbose=False, warm_start=False),\n",
    "        require_dense=[True, True])"
   ],
   "metadata": {
    "collapsed": false,
    "pycharm": {
     "name": "#%% md\n"
    }
   }
  },
  {
   "cell_type": "code",
   "execution_count": null,
   "outputs": [],
   "source": [
    "y_pred = br_mlp.predict(X_test)"
   ],
   "metadata": {
    "collapsed": false,
    "pycharm": {
     "name": "#%%\n"
    }
   }
  },
  {
   "cell_type": "code",
   "execution_count": null,
   "outputs": [],
   "source": [
    "# accuracy score\n",
    "accuracy_score(y_test, y_pred)"
   ],
   "metadata": {
    "collapsed": false,
    "pycharm": {
     "name": "#%%\n"
    }
   }
  },
  {
   "cell_type": "markdown",
   "source": [
    "On obtient un accuracy de 83.65 %\n"
   ],
   "metadata": {
    "collapsed": false,
    "pycharm": {
     "name": "#%% md\n"
    }
   }
  }
 ],
 "metadata": {
  "language_info": {
   "codemirror_mode": {
    "name": "ipython",
    "version": 2
   },
   "file_extension": ".py",
   "mimetype": "text/x-python",
   "name": "python",
   "nbconvert_exporter": "python",
   "pygments_lexer": "ipython2",
   "version": "2.7.6"
  },
  "kernelspec": {
   "name": "python3",
   "language": "python",
   "display_name": "Python 3"
  },
  "pycharm": {
   "stem_cell": {
    "cell_type": "raw",
    "source": [],
    "metadata": {
     "collapsed": false
    }
   }
  }
 },
 "nbformat": 4,
 "nbformat_minor": 0
}